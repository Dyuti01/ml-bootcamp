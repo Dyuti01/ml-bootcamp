{
 "cells": [
  {
   "attachments": {},
   "cell_type": "markdown",
   "metadata": {},
   "source": [
    "# **k Nearest Neighbours(kNN)**\n",
    "\n",
    "```markdown\n",
    "--->Find distance from all the data points \n",
    "--->Sort them and take the first k(generally odd) distances from the sorted distances \n",
    "--->Counting the points and noting down the class these k points belong to \n",
    "--->The class wiith the max no. of points among the k points will be the predicted class of the unclassified point\n",
    "```"
   ]
  },
  {
   "cell_type": "code",
   "execution_count": 5,
   "metadata": {},
   "outputs": [
    {
     "name": "stdout",
     "output_type": "stream",
     "text": [
      "k-Value: 5\n",
      "          ids  Output\n",
      "0     25672.0     0.0\n",
      "1     59964.0     4.0\n",
      "2     66230.0     1.0\n",
      "3     50801.0     8.0\n",
      "4     83307.0     0.0\n",
      "...       ...     ...\n",
      "9995  71009.0     3.0\n",
      "9996  67472.0     6.0\n",
      "9997  99226.0     1.0\n",
      "9998  58519.0     5.0\n",
      "9999  80458.0     3.0\n",
      "\n",
      "[10000 rows x 2 columns]\n"
     ]
    }
   ],
   "source": [
    "\n",
    "import matplotlib.pyplot as plt\n",
    "from ml_ai1 import *\n",
    "import numpy as np\n",
    "import pandas as pd\n",
    "\n",
    "algorithm = Knn()\n",
    "\n",
    "k_value = algorithm.k()\n",
    "print(f\"k-Value: {k_value}\")\n",
    "\n",
    "data = np.loadtxt(\"classification_train.csv\", delimiter=',', skiprows=1)\n",
    "X_train = data[:, 2:]\n",
    "y_train = data[:, 1]\n",
    "X_train1 = data[:1000, 2:]\n",
    "y_train1 = data[:1000, 1]\n",
    "\n",
    "\n",
    "# m, n =X_train1.shape\n",
    "\n",
    "# # data_test = np.loadtxt(\"\")\n",
    "# categories = np.zeros(m)\n",
    "# for i in range(m):\n",
    "#     data_test = X_train1[i]\n",
    "#     X = X_train1.copy()\n",
    "#     np.delete(X, i, 0)\n",
    "#     distances = cal_dist(X, data_test)\n",
    "\n",
    "#     sorted_dist = np.argsort(distances)\n",
    "\n",
    "#     kNN = sorted_dist[:k_value]\n",
    "\n",
    "    \n",
    "#     cat = np.zeros(k_value, dtype='int64')\n",
    "\n",
    "#     for j in range(k_value):\n",
    "#         cat[j] = y_train[kNN[j]]\n",
    "#     categories[i] = np.bincount(cat).argmax()\n",
    "\n",
    "\n",
    "# Output\n",
    "test = np.loadtxt(\"classification_test.csv\", delimiter=',', skiprows=1)\n",
    "# Train set\n",
    "X_test = test[:, 1:]\n",
    "\n",
    "m2, n2 = X_test.shape\n",
    "out_prob_test = np.zeros(m2)\n",
    "\n",
    "for i in range(m2):\n",
    "    data_test1 = X_test[i]\n",
    "    X = X_test.copy()\n",
    "    np.delete(X, i, 0)\n",
    "    distances = algorithm.cal_dist(X, data_test1)\n",
    "\n",
    "    sorted_dist = np.argsort(distances)\n",
    "\n",
    "    kNN = sorted_dist[:k_value]\n",
    "\n",
    "    \n",
    "    cat = np.zeros(k_value, dtype='int64')\n",
    "\n",
    "    for j in range(k_value):\n",
    "        cat[j] = y_train[kNN[j]]\n",
    "    out_prob_test[i] = np.bincount(cat).argmax()\n",
    "\n",
    "df = pd.DataFrame(test[:, 0])\n",
    "df['Output'] = out_prob_test\n",
    "df.columns = ['ids', 'Output']\n",
    "\n",
    "print(df)\n"
   ]
  },
  {
   "cell_type": "code",
   "execution_count": 7,
   "metadata": {},
   "outputs": [],
   "source": [
    "df.to_csv(\"submission_Knn.csv\")"
   ]
  },
  {
   "attachments": {},
   "cell_type": "markdown",
   "metadata": {},
   "source": [
    "# Rough"
   ]
  },
  {
   "cell_type": "code",
   "execution_count": 6,
   "metadata": {},
   "outputs": [
    {
     "data": {
      "text/plain": [
       "(10000, 785)"
      ]
     },
     "execution_count": 6,
     "metadata": {},
     "output_type": "execute_result"
    }
   ],
   "source": [
    "test.shape"
   ]
  },
  {
   "cell_type": "code",
   "execution_count": 13,
   "metadata": {},
   "outputs": [
    {
     "name": "stdout",
     "output_type": "stream",
     "text": [
      "Train Accuracy: 80.700000\n"
     ]
    }
   ],
   "source": [
    "# Accuracy\n",
    "print('Train Accuracy: %f'%(np.mean(categories == y_train1) * 100))"
   ]
  },
  {
   "cell_type": "code",
   "execution_count": 8,
   "metadata": {},
   "outputs": [
    {
     "data": {
      "text/plain": [
       "5"
      ]
     },
     "execution_count": 8,
     "metadata": {},
     "output_type": "execute_result"
    }
   ],
   "source": [
    "np.bincount(np.array([1, 1, 2 , 5, 5, 5, 3, 4])).argmax()"
   ]
  },
  {
   "cell_type": "code",
   "execution_count": 7,
   "metadata": {},
   "outputs": [
    {
     "data": {
      "text/plain": [
       "2"
      ]
     },
     "execution_count": 7,
     "metadata": {},
     "output_type": "execute_result"
    }
   ],
   "source": [
    "np.array([1, 1, 5 ,3, 4]).argmax()"
   ]
  }
 ],
 "metadata": {
  "kernelspec": {
   "display_name": "Python 3",
   "language": "python",
   "name": "python3"
  },
  "language_info": {
   "codemirror_mode": {
    "name": "ipython",
    "version": 3
   },
   "file_extension": ".py",
   "mimetype": "text/x-python",
   "name": "python",
   "nbconvert_exporter": "python",
   "pygments_lexer": "ipython3",
   "version": "3.11.0"
  },
  "orig_nbformat": 4
 },
 "nbformat": 4,
 "nbformat_minor": 2
}
